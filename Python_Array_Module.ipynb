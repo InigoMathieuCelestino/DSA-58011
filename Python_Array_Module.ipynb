{
  "nbformat": 4,
  "nbformat_minor": 0,
  "metadata": {
    "colab": {
      "provenance": [],
      "authorship_tag": "ABX9TyMITlF/rBZxwRDXpNVFGZM7",
      "include_colab_link": true
    },
    "kernelspec": {
      "name": "python3",
      "display_name": "Python 3"
    },
    "language_info": {
      "name": "python"
    }
  },
  "cells": [
    {
      "cell_type": "markdown",
      "metadata": {
        "id": "view-in-github",
        "colab_type": "text"
      },
      "source": [
        "<a href=\"https://colab.research.google.com/github/InigoMathieuCelestino/DSA-58011/blob/main/Python_Array_Module.ipynb\" target=\"_parent\"><img src=\"https://colab.research.google.com/assets/colab-badge.svg\" alt=\"Open In Colab\"/></a>"
      ]
    },
    {
      "cell_type": "code",
      "source": [
        "import array as arr\n",
        "arr.typecodes\n",
        "\n",
        "a = arr.array('i', [1,2,3,4,5,6,7,8,9,10])\n",
        "b = arr.array('f', [1.5,2.5,3.5,4.5,5.5,6.5,7.5,8.5,9.5,10.5])\n",
        "\n",
        "print(a.typecode)\n",
        "print(b.typecode)"
      ],
      "metadata": {
        "id": "ZzrRBgTSKtwO",
        "colab": {
          "base_uri": "https://localhost:8080/"
        },
        "outputId": "b8e2fec1-78dd-43e8-bc0a-233babb9415a"
      },
      "execution_count": null,
      "outputs": [
        {
          "output_type": "stream",
          "name": "stdout",
          "text": [
            "i\n",
            "f\n"
          ]
        }
      ]
    },
    {
      "cell_type": "code",
      "source": [
        "a = arr.array('f', [1,2,3,4,5,6,7,8,9,10])\n",
        "print(a)"
      ],
      "metadata": {
        "colab": {
          "base_uri": "https://localhost:8080/"
        },
        "id": "x0iCPV5JNNZ0",
        "outputId": "f778ce33-bf9c-42f5-e35a-597edb92a025"
      },
      "execution_count": null,
      "outputs": [
        {
          "output_type": "stream",
          "name": "stdout",
          "text": [
            "array('f', [1.0, 2.0, 3.0, 4.0, 5.0, 6.0, 7.0, 8.0, 9.0, 10.0])\n"
          ]
        }
      ]
    },
    {
      "cell_type": "code",
      "source": [
        "a.insert(0,11)\n",
        "print(a)\n",
        "\n",
        "b.insert(-1,11)\n",
        "print(b)"
      ],
      "metadata": {
        "colab": {
          "base_uri": "https://localhost:8080/"
        },
        "id": "qlFAAOtMONkx",
        "outputId": "d3f75bed-24a1-48a4-cdbc-71ae4c69cf5b"
      },
      "execution_count": null,
      "outputs": [
        {
          "output_type": "stream",
          "name": "stdout",
          "text": [
            "array('f', [11.0, 1.0, 2.0, 3.0, 4.0, 5.0, 6.0, 7.0, 8.0, 9.0, 10.0])\n",
            "array('f', [1.5, 2.5, 3.5, 4.5, 5.5, 6.5, 7.5, 8.5, 9.5, 11.0, 11.0, 11.0, 11.0, 11.0, 10.5])\n"
          ]
        }
      ]
    },
    {
      "cell_type": "code",
      "source": [
        "a = arr.array('i', [1,2,3,4,5,6,7,8,9,10])\n",
        "print(a)"
      ],
      "metadata": {
        "colab": {
          "base_uri": "https://localhost:8080/"
        },
        "id": "bimbqMgrOUnG",
        "outputId": "a5708306-aa1b-4eec-d174-18ecc3681797"
      },
      "execution_count": null,
      "outputs": [
        {
          "output_type": "stream",
          "name": "stdout",
          "text": [
            "array('i', [1, 2, 3, 4, 5, 6, 7, 8, 9, 10])\n"
          ]
        }
      ]
    }
  ]
}