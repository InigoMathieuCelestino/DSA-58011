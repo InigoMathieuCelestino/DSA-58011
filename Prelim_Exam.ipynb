{
  "nbformat": 4,
  "nbformat_minor": 0,
  "metadata": {
    "colab": {
      "provenance": [],
      "authorship_tag": "ABX9TyNLMmuH1YeFD5ScvTNAoCl8",
      "include_colab_link": true
    },
    "kernelspec": {
      "name": "python3",
      "display_name": "Python 3"
    },
    "language_info": {
      "name": "python"
    }
  },
  "cells": [
    {
      "cell_type": "markdown",
      "metadata": {
        "id": "view-in-github",
        "colab_type": "text"
      },
      "source": [
        "<a href=\"https://colab.research.google.com/github/InigoMathieuCelestino/DSA-58011/blob/main/Prelim_Exam.ipynb\" target=\"_parent\"><img src=\"https://colab.research.google.com/assets/colab-badge.svg\" alt=\"Open In Colab\"/></a>"
      ]
    },
    {
      "cell_type": "code",
      "execution_count": 18,
      "metadata": {
        "colab": {
          "base_uri": "https://localhost:8080/"
        },
        "id": "AfhsxHgRcAA8",
        "outputId": "0d688d9e-ea50-4b41-dc1b-0b06aba33195"
      },
      "outputs": [
        {
          "output_type": "stream",
          "name": "stdout",
          "text": [
            "List of Composite Numbers =  [4, 6, 8, 9]\n",
            "Count of Composite Numbers =  4\n"
          ]
        }
      ],
      "source": [
        "def composite(arr, n):\n",
        "\n",
        "\tvalue = max(arr)\n",
        "\n",
        "\tprime_integers = [True for i in range(value + 1)]\n",
        "\tprime_integers[0] = True\n",
        "\tprime_integers[1] = True\n",
        "\tfor c in range(2, value + 1):\n",
        "\n",
        "\t\tif c * c > value:\n",
        "\t\t\tbreak\n",
        "\t\t\t\n",
        "\t\tif (prime_integers[c] == True):\n",
        "    \n",
        "\t\t\tfor i in range(c * 2, value + 1, c):\n",
        "\t\t\t\tprime_integers[i] = False\n",
        "\t\t\n",
        "\tcount = 0\n",
        "\tfor i in range(n):\n",
        "\t\tif (prime_integers[arr[i]] == False):\n",
        "\t\t\tcount += 1\n",
        "      \t\n",
        "\treturn count\n",
        "\n",
        "arr = [1, 2, 3, 4, 5, 6, 7, 8, 9, 10]\n",
        "arr = [4,6,8,9]\n",
        "n = len(arr)\n",
        "count = composite(arr, n)\n",
        "\n",
        "print(\"List of Composite Numbers = \", arr)\n",
        "print(\"Count of Composite Numbers = \", count)"
      ]
    }
  ]
}