{
  "nbformat": 4,
  "nbformat_minor": 0,
  "metadata": {
    "colab": {
      "provenance": [],
      "authorship_tag": "ABX9TyPxDeeIn/aR+17w/EPLkPf+",
      "include_colab_link": true
    },
    "kernelspec": {
      "name": "python3",
      "display_name": "Python 3"
    },
    "language_info": {
      "name": "python"
    }
  },
  "cells": [
    {
      "cell_type": "markdown",
      "metadata": {
        "id": "view-in-github",
        "colab_type": "text"
      },
      "source": [
        "<a href=\"https://colab.research.google.com/github/InigoMathieuCelestino/DSA-58011/blob/main/Graphs.ipynb\" target=\"_parent\"><img src=\"https://colab.research.google.com/assets/colab-badge.svg\" alt=\"Open In Colab\"/></a>"
      ]
    },
    {
      "cell_type": "code",
      "execution_count": 2,
      "metadata": {
        "id": "4SuKGQFWYcga"
      },
      "outputs": [],
      "source": [
        "#Data Elements Using Dictionaries To Implement Graphs"
      ]
    },
    {
      "cell_type": "code",
      "source": [
        "graph = {\n",
        "  'a': ['b','c'],\n",
        "  'b': ['a','d'],\n",
        "  'c': ['a','d'],\n",
        "  'd': ['b','c','e'],\n",
        "  'e': ['e'],\n",
        "}\n",
        "print(graph)"
      ],
      "metadata": {
        "colab": {
          "base_uri": "https://localhost:8080/"
        },
        "id": "WtQ69x3icHmq",
        "outputId": "7a09de9d-24f6-4c47-dee9-bd448ff38502"
      },
      "execution_count": 3,
      "outputs": [
        {
          "output_type": "stream",
          "name": "stdout",
          "text": [
            "{'a': ['b', 'c'], 'b': ['a', 'd'], 'c': ['a', 'd'], 'd': ['b', 'c', 'e'], 'e': ['e']}\n"
          ]
        }
      ]
    },
    {
      "cell_type": "code",
      "source": [
        "#Application 1"
      ],
      "metadata": {
        "id": "uNy5vAygdAos"
      },
      "execution_count": 4,
      "outputs": []
    },
    {
      "cell_type": "code",
      "source": [
        "graph_21 = {\n",
        "  '1': ['3','5','4'],\n",
        "  '2': ['4','5'],\n",
        "  '3': ['1'],\n",
        "  '4': ['1','2'],\n",
        "  '5': ['1','2'],\n",
        "}\n",
        "print(graph_21)"
      ],
      "metadata": {
        "colab": {
          "base_uri": "https://localhost:8080/"
        },
        "id": "A6qtR1G6gmrR",
        "outputId": "56adce2c-991b-43e7-d8bb-d7135beff079"
      },
      "execution_count": 6,
      "outputs": [
        {
          "output_type": "stream",
          "name": "stdout",
          "text": [
            "{'1': ['3', '5', '4'], '2': ['4', '5'], '3': ['1'], '4': ['1', '2'], '5': ['1', '2']}\n"
          ]
        }
      ]
    },
    {
      "cell_type": "code",
      "source": [
        "#Application 2"
      ],
      "metadata": {
        "id": "Ff8pgKzqi_0V"
      },
      "execution_count": null,
      "outputs": []
    },
    {
      "cell_type": "code",
      "source": [
        "graph_19 = {\n",
        "  '1': ['5','4','3','2'],\n",
        "  '2': ['1','5','4','3'],\n",
        "  '3': ['2','1','5','4'],\n",
        "  '4': ['3','2','1','5'],\n",
        "  '5': ['1','2','3','4'],\n",
        "}\n",
        "print(graph_19)"
      ],
      "metadata": {
        "colab": {
          "base_uri": "https://localhost:8080/"
        },
        "id": "4VirKSuWjGL8",
        "outputId": "c27e3fdb-c5c3-41e9-eab4-64ee7cdd920e"
      },
      "execution_count": 7,
      "outputs": [
        {
          "output_type": "stream",
          "name": "stdout",
          "text": [
            "{'1': ['5', '4', '3', '2'], '2': ['1', '5', '4', '3'], '3': ['2', '1', '5', '4'], '4': ['3', '2', '1', '5'], '5': ['1', '2', '3', '4']}\n"
          ]
        }
      ]
    },
    {
      "cell_type": "code",
      "source": [
        "#Application 3"
      ],
      "metadata": {
        "id": "s5ryM7FzkDXG"
      },
      "execution_count": null,
      "outputs": []
    },
    {
      "cell_type": "code",
      "source": [
        "graph_20 = {\n",
        "  '1': ['4'],\n",
        "  '2': ['1','3','4'],\n",
        "  '3': ['4','2'],\n",
        "}\n",
        "print(graph_20)"
      ],
      "metadata": {
        "colab": {
          "base_uri": "https://localhost:8080/"
        },
        "id": "gdJmB1BXkFW0",
        "outputId": "01967243-ab7b-4f49-9501-d54b3946d5b3"
      },
      "execution_count": 8,
      "outputs": [
        {
          "output_type": "stream",
          "name": "stdout",
          "text": [
            "{'1': ['4'], '2': ['1', '3', '4'], '3': ['4', '2']}\n"
          ]
        }
      ]
    }
  ]
}