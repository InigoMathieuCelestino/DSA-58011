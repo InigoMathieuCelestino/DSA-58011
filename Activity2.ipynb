{
  "nbformat": 4,
  "nbformat_minor": 0,
  "metadata": {
    "colab": {
      "provenance": [],
      "authorship_tag": "ABX9TyN4qa0NeFL/eGDxQSXAn07j",
      "include_colab_link": true
    },
    "kernelspec": {
      "name": "python3",
      "display_name": "Python 3"
    },
    "language_info": {
      "name": "python"
    }
  },
  "cells": [
    {
      "cell_type": "markdown",
      "metadata": {
        "id": "view-in-github",
        "colab_type": "text"
      },
      "source": [
        "<a href=\"https://colab.research.google.com/github/InigoMathieuCelestino/DSA-58011/blob/main/Activity2.ipynb\" target=\"_parent\"><img src=\"https://colab.research.google.com/assets/colab-badge.svg\" alt=\"Open In Colab\"/></a>"
      ]
    },
    {
      "cell_type": "code",
      "execution_count": 27,
      "metadata": {
        "colab": {
          "base_uri": "https://localhost:8080/"
        },
        "id": "iFtVfQb9UT6t",
        "outputId": "a3e46a8d-45b2-43db-cc02-ad3087c219d5"
      },
      "outputs": [
        {
          "output_type": "stream",
          "name": "stdout",
          "text": [
            "Vowels in English Alphabet:\n",
            "a \n",
            "e \n",
            "i \n",
            "e \n",
            "o \n",
            "u \n"
          ]
        }
      ],
      "source": [
        "class Node:\n",
        "\tdef __init__(self, x):\n",
        "\t\tself.data = x\n",
        "\t\tself.next = None\n",
        "    \n",
        "def printlist(head):\n",
        "    if (not head):\n",
        "        print(\"Empty List\")\n",
        "        return\n",
        " \n",
        "    while (head != None):\n",
        "        print(head.data, end = \" \")\n",
        "        if (head.next):\n",
        "            print(end = \"-> \")\n",
        "        head = head.next\n",
        "    print()\n",
        "\n",
        "def vowels(x):\n",
        "\treturn (x == 'a' or x == 'e' or x == 'i'\n",
        "\t\t\tor x == 'o' or x == 'u')\n",
        "\n",
        "if __name__ == '__main__':\n",
        "\t\n",
        " head = Node('a')\n",
        "head.second = Node('b')\n",
        "head.third = Node('c')\n",
        "head.fourth = Node('d')\n",
        "head.fifth = Node('e')\n",
        "head.sixth = Node('f')\n",
        "head.seventh = Node('g')\n",
        "head.eight = Node('h')\n",
        "head.nineth = Node('i')\n",
        "head.tenth = Node('j')\n",
        "head.eleventh = Node('k')\n",
        "head.twelveth = Node('l')\n",
        "head.thirteenth = Node('m')\n",
        "head.fouteenth = Node('o')\n",
        "head.fifteenth = Node('p')\n",
        "head.sixteenth = Node('q')\n",
        "head.seventeenth = Node('r')\n",
        "head.eighteenth = Node('s')\n",
        "head.nineteenth = Node('t')\n",
        "head.twentieth = Node('u')\n",
        "head.twentyfirst = Node('v')\n",
        "head.twentysecond = Node('w')\n",
        "head.twentythird = Node('x')\n",
        "head.twentyfourth = Node('y')\n",
        "head.twentyfifth = Node('z')\n",
        "\n",
        "head = (head)\n",
        "\n",
        "print(\"Vowels in English Alphabet:\")\n",
        "printlist(head)\n",
        "printlist(head.fifth)\n",
        "printlist(head.nineth)\n",
        "printlist(head.fifth)\n",
        "printlist(head.fouteenth)\n",
        "printlist(head.twentieth)"
      ]
    },
    {
      "cell_type": "code",
      "source": [
        "class Node:\n",
        "  def __init__(self, v): \n",
        "    self.data = v  \n",
        "    self.next = None  \n",
        "\n",
        "class LinkedList:\n",
        "  def __init__(self):\n",
        "    self.head = None \n",
        "  def printList(self):\n",
        "    vowels = self.head\n",
        "    while(vowels):\n",
        "      print(vowels.data)\n",
        "      vowels = vowels.next\n",
        "\n",
        "llist = LinkedList()\n",
        "llist.head = Node('a')\n",
        "second = Node('e')\n",
        "third = Node('i')\n",
        "fourth = Node('o')\n",
        "fifth = Node('u')\n",
        "  \n",
        "llist.head.next = second\n",
        "second.next = third\n",
        "third.next = fourth\n",
        "fourth.next = fifth\n",
        "\n",
        "llist.printList()"
      ],
      "metadata": {
        "colab": {
          "base_uri": "https://localhost:8080/"
        },
        "id": "hLrtQ1hcZH4G",
        "outputId": "4acf8b35-8d57-49dc-e239-e874c5185e86"
      },
      "execution_count": 24,
      "outputs": [
        {
          "output_type": "stream",
          "name": "stdout",
          "text": [
            "a\n",
            "e\n",
            "i\n",
            "o\n",
            "u\n"
          ]
        }
      ]
    },
    {
      "cell_type": "code",
      "source": [
        "class Node:\n",
        "\tdef __init__(self, x):\n",
        "\t\tself.data = x\n",
        "\t\tself.next = None\n",
        "\n",
        "def printlist(head):\n",
        "    if (not head):\n",
        "        print(\"Empty List\")\n",
        "        return\n",
        " \n",
        "    while (head != None):\n",
        "        print(head.data, end = \" \")\n",
        "        if (head.next):\n",
        "            print(end = \"-> \")\n",
        "        head = head.next\n",
        "    print()\n",
        "  \n",
        "def arrange(head):\n",
        "\tnewHead = head\n",
        "\tlatestVowel = None\n",
        "\n",
        "\tcurr = head\n",
        "  \n",
        "\tif (head == None):\n",
        "\t\treturn None\n",
        "\n",
        "\tif (vowels(head.data)):\n",
        "\n",
        "\t\tlatestVowel = head\n",
        "\n",
        "\telse:\n",
        "\n",
        "\t\twhile (curr.next != None and\n",
        "\t\t\tnot vowels(curr.next.data)):\n",
        "\t\t\tcurr = curr.next\n",
        "\n",
        "\t\tif (curr.next == None):\n",
        "\t\t\treturn head\n",
        "\n",
        "\t\tlatestVowel = newHead = curr.next\n",
        "\t\tcurr.next = curr.next.next\n",
        "\t\tlatestVowel.next = head\n",
        "\n",
        "\twhile (curr != None and curr.next != None):\n",
        "\t\tif (vowels(curr.next.data)):\n",
        "\t\t\t\n",
        "\t\t\tif (curr == latestVowel):\n",
        "\t\t\t\tlatestVowel = curr = curr.next\n",
        "\t\t\telse:\n",
        "\t\t\t\ttemp = latestVowel.next\n",
        "\n",
        "\t\t\t\tlatestVowel.next = curr.next\n",
        "\t\t\t\tlatestVowel = latestVowel.next\n",
        "\t\t\t\tcurr.next = curr.next.next\n",
        "\t\t\t\tlatestVowel.next = temp\n",
        "\n",
        "\t\telse:\n",
        "\t\t\tcurr = curr.next\n",
        "\treturn newHead\n",
        "\n",
        "def vowels(x):\n",
        "\treturn (x == 'a' or x == 'e' or x == 'i'\n",
        "\t\t\tor x == 'o' or x == 'u')\n",
        "\n",
        "if __name__ == '__main__':\n",
        "\t\n",
        " head = Node('a')\n",
        "head.next = Node('b')\n",
        "head.next.next = Node('c')\n",
        "head.next.next.next = Node('d')\n",
        "head.next.next.next.next = Node('e')\n",
        "head.next.next.next.next.next = Node('f')\n",
        "head.next.next.next.next.next.next = Node('g')\n",
        "head.next.next.next.next.next.next.next = Node('h')\n",
        "head.next.next.next.next.next.next.next.next = Node('i')\n",
        "head.next.next.next.next.next.next.next.next.next = Node('j')\n",
        "head.next.next.next.next.next.next.next.next.next.next = Node('k')\n",
        "head.next.next.next.next.next.next.next.next.next.next.next = Node('l')\n",
        "head.next.next.next.next.next.next.next.next.next.next.next.next = Node('m')\n",
        "head.next.next.next.next.next.next.next.next.next.next.next.next.next = Node('o')\n",
        "head.next.next.next.next.next.next.next.next.next.next.next.next.next.next = Node('p')\n",
        "head.next.next.next.next.next.next.next.next.next.next.next.next.next.next.next = Node('q')\n",
        "head.next.next.next.next.next.next.next.next.next.next.next.next.next.next.next.next = Node('r')\n",
        "head.next.next.next.next.next.next.next.next.next.next.next.next.next.next.next.next.next = Node('s')\n",
        "head.next.next.next.next.next.next.next.next.next.next.next.next.next.next.next.next.next.next = Node('t')\n",
        "head.next.next.next.next.next.next.next.next.next.next.next.next.next.next.next.next.next.next.next = Node('u')\n",
        "head.next.next.next.next.next.next.next.next.next.next.next.next.next.next.next.next.next.next.next.next = Node('v')\n",
        "head.next.next.next.next.next.next.next.next.next.next.next.next.next.next.next.next.next.next.next.next.next = Node('w')\n",
        "head.next.next.next.next.next.next.next.next.next.next.next.next.next.next.next.next.next.next.next.next.next.next = Node('x')\n",
        "head.next.next.next.next.next.next.next.next.next.next.next.next.next.next.next.next.next.next.next.next.next.next.next = Node('y')\n",
        "head.next.next.next.next.next.next.next.next.next.next.next.next.next.next.next.next.next.next.next.next.next.next.next.next = Node('z')\n",
        "\n",
        "head = arrange(head)\n",
        "\n",
        "print(\"English Alphabet (Displays Vowels first):\")\n",
        "printlist(head)"
      ],
      "metadata": {
        "colab": {
          "base_uri": "https://localhost:8080/"
        },
        "id": "TRVoGbUhj2J_",
        "outputId": "bf7aba54-6cb7-466d-84ef-c7471448323d"
      },
      "execution_count": 28,
      "outputs": [
        {
          "output_type": "stream",
          "name": "stdout",
          "text": [
            "English Alphabet (Displays Vowels first):\n",
            "a -> e -> i -> o -> u -> b -> c -> d -> f -> g -> h -> j -> k -> l -> m -> p -> q -> r -> s -> t -> v -> w -> x -> y -> z \n"
          ]
        }
      ]
    }
  ]
}