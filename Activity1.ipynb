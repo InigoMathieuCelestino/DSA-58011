{
  "nbformat": 4,
  "nbformat_minor": 0,
  "metadata": {
    "colab": {
      "provenance": [],
      "authorship_tag": "ABX9TyMiKws2eiGZMmr0zhHOVJ/8",
      "include_colab_link": true
    },
    "kernelspec": {
      "name": "python3",
      "display_name": "Python 3"
    },
    "language_info": {
      "name": "python"
    }
  },
  "cells": [
    {
      "cell_type": "markdown",
      "metadata": {
        "id": "view-in-github",
        "colab_type": "text"
      },
      "source": [
        "<a href=\"https://colab.research.google.com/github/InigoMathieuCelestino/DSA-58011/blob/main/Activity1.ipynb\" target=\"_parent\"><img src=\"https://colab.research.google.com/assets/colab-badge.svg\" alt=\"Open In Colab\"/></a>"
      ]
    },
    {
      "cell_type": "code",
      "source": [
        "integers = (1, 2, 3, 4, 5, 6, 7, 8, 9, 10)\n",
        "print(integers)\n",
        "\n",
        "total_sum = 0\n",
        "\n",
        "a = integers[0]\n",
        "b = integers[1]\n",
        "c = integers[2]\n",
        "d = integers[3]\n",
        "e = integers[4]\n",
        "f = integers[5]\n",
        "g = integers[6]\n",
        "h = integers[7]\n",
        "i = integers[8]\n",
        "j = integers[9]\n",
        "print(a)\n",
        "print(b)\n",
        "print(c)\n",
        "print(d)\n",
        "print(e)\n",
        "print(f)\n",
        "print(g)\n",
        "print(h)\n",
        "print(i)\n",
        "print(j)\n",
        "\n",
        "for ele in range(0, len(integers)):\n",
        "\n",
        "  total_sum = total_sum + integers\n",
        "\n",
        "print(\"Sum of all integers: \", total_sum)"
      ],
      "metadata": {
        "id": "89Add5cNweKN"
      },
      "execution_count": null,
      "outputs": []
    },
    {
      "cell_type": "code",
      "source": [
        "integers = [1, 2, 3, 4 , 5, 6, 7, 8, 9, 10]\n",
        "integers.append(11)\n",
        "print(integers)\n"
      ],
      "metadata": {
        "colab": {
          "base_uri": "https://localhost:8080/"
        },
        "id": "3Hg06gSOwkoG",
        "outputId": "2bcf9793-cbb2-418b-8798-426eb597d0b8"
      },
      "execution_count": 8,
      "outputs": [
        {
          "output_type": "stream",
          "name": "stdout",
          "text": [
            "[1, 2, 3, 4, 5, 6, 7, 8, 9, 10, 11]\n"
          ]
        }
      ]
    },
    {
      "cell_type": "code",
      "source": [
        "integers = [1, 2, 3, 4 , 5, 6, 7, 8, 9, 10]\n",
        "integers.insert(1, 8)\n",
        "print(integers)"
      ],
      "metadata": {
        "colab": {
          "base_uri": "https://localhost:8080/"
        },
        "id": "kRBENhPMwpZL",
        "outputId": "c7fc9639-cfca-4fbd-c009-793fc18ddbc4"
      },
      "execution_count": 7,
      "outputs": [
        {
          "output_type": "stream",
          "name": "stdout",
          "text": [
            "[1, 8, 2, 3, 4, 5, 6, 7, 8, 9, 10]\n"
          ]
        }
      ]
    },
    {
      "cell_type": "code",
      "source": [
        "integers = [5, 4, 3, 2, 1]\n",
        "integers.reverse()\n",
        "print(integers)"
      ],
      "metadata": {
        "colab": {
          "base_uri": "https://localhost:8080/"
        },
        "id": "YeIKvV_mwug9",
        "outputId": "dc03ddea-2e26-4041-c6d5-baa14f9bb68f"
      },
      "execution_count": 6,
      "outputs": [
        {
          "output_type": "stream",
          "name": "stdout",
          "text": [
            "[1, 2, 3, 4, 5]\n"
          ]
        }
      ]
    },
    {
      "cell_type": "code",
      "source": [
        "integers = [5, 4, 3, 2, 1]\n",
        "integers = len(integers)\n",
        "print(integers)"
      ],
      "metadata": {
        "colab": {
          "base_uri": "https://localhost:8080/"
        },
        "id": "OIUPB55bwznR",
        "outputId": "ebbd30f0-dfed-468c-b209-dfced7840bd5"
      },
      "execution_count": 4,
      "outputs": [
        {
          "output_type": "stream",
          "name": "stdout",
          "text": [
            "5\n"
          ]
        }
      ]
    }
  ]
}